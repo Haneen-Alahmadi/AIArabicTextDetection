{
 "cells": [
  {
   "cell_type": "code",
   "id": "initial_id",
   "metadata": {
    "collapsed": true,
    "ExecuteTime": {
     "end_time": "2025-09-15T15:49:05.013823Z",
     "start_time": "2025-09-15T15:49:03.600449Z"
    }
   },
   "source": [
    "from datasets import load_dataset\n",
    "import pandas as pd\n",
    "import os"
   ],
   "outputs": [],
   "execution_count": 1
  },
  {
   "metadata": {},
   "cell_type": "markdown",
   "source": "# Load Arabic Generated Abstracts dataset",
   "id": "56b9e50e199c5b31"
  },
  {
   "metadata": {
    "ExecuteTime": {
     "end_time": "2025-09-15T15:53:59.436793Z",
     "start_time": "2025-09-15T15:53:51.743562Z"
    }
   },
   "cell_type": "code",
   "source": "dataset = load_dataset(\"KFUPM-JRCAI/arabic-generated-abstracts\")",
   "id": "764d441c84e9521e",
   "outputs": [
    {
     "data": {
      "text/plain": [
       "README.md: 0.00B [00:00, ?B/s]"
      ],
      "application/vnd.jupyter.widget-view+json": {
       "version_major": 2,
       "version_minor": 0,
       "model_id": "72ef9a3b016d477abfed8e05b60b04ca"
      }
     },
     "metadata": {},
     "output_type": "display_data"
    },
    {
     "data": {
      "text/plain": [
       "by_polishing-00000-of-00001.parquet:   0%|          | 0.00/8.49M [00:00<?, ?B/s]"
      ],
      "application/vnd.jupyter.widget-view+json": {
       "version_major": 2,
       "version_minor": 0,
       "model_id": "9334799c766941589299f9100fe728b6"
      }
     },
     "metadata": {},
     "output_type": "display_data"
    },
    {
     "data": {
      "text/plain": [
       "from_title-00000-of-00001.parquet:   0%|          | 0.00/6.90M [00:00<?, ?B/s]"
      ],
      "application/vnd.jupyter.widget-view+json": {
       "version_major": 2,
       "version_minor": 0,
       "model_id": "a0a7a97bbb5e44869eab6ccc60003fea"
      }
     },
     "metadata": {},
     "output_type": "display_data"
    },
    {
     "data": {
      "text/plain": [
       "(…)title_and_content-00000-of-00001.parquet:   0%|          | 0.00/7.01M [00:00<?, ?B/s]"
      ],
      "application/vnd.jupyter.widget-view+json": {
       "version_major": 2,
       "version_minor": 0,
       "model_id": "73ec81978e2d4aee8378f3e7475bf683"
      }
     },
     "metadata": {},
     "output_type": "display_data"
    },
    {
     "data": {
      "text/plain": [
       "Generating by_polishing split:   0%|          | 0/2851 [00:00<?, ? examples/s]"
      ],
      "application/vnd.jupyter.widget-view+json": {
       "version_major": 2,
       "version_minor": 0,
       "model_id": "cd609789f1ca4ffb885eac18cc91fbfb"
      }
     },
     "metadata": {},
     "output_type": "display_data"
    },
    {
     "data": {
      "text/plain": [
       "Generating from_title split:   0%|          | 0/2963 [00:00<?, ? examples/s]"
      ],
      "application/vnd.jupyter.widget-view+json": {
       "version_major": 2,
       "version_minor": 0,
       "model_id": "2c73e5e3dc6148d4b8ea53d74f9e2818"
      }
     },
     "metadata": {},
     "output_type": "display_data"
    },
    {
     "data": {
      "text/plain": [
       "Generating from_title_and_content split:   0%|          | 0/2574 [00:00<?, ? examples/s]"
      ],
      "application/vnd.jupyter.widget-view+json": {
       "version_major": 2,
       "version_minor": 0,
       "model_id": "9ea8bd3089d14db7a7552dd899b7b653"
      }
     },
     "metadata": {},
     "output_type": "display_data"
    }
   ],
   "execution_count": 2
  },
  {
   "metadata": {
    "ExecuteTime": {
     "end_time": "2025-09-15T16:24:38.296104Z",
     "start_time": "2025-09-15T16:24:38.280380Z"
    }
   },
   "cell_type": "code",
   "source": "print(dataset.keys())",
   "id": "59edcae683accbbb",
   "outputs": [
    {
     "name": "stdout",
     "output_type": "stream",
     "text": [
      "dict_keys(['by_polishing', 'from_title', 'from_title_and_content'])\n"
     ]
    }
   ],
   "execution_count": 19
  },
  {
   "metadata": {
    "ExecuteTime": {
     "end_time": "2025-09-15T16:24:53.763560Z",
     "start_time": "2025-09-15T16:24:53.602562Z"
    }
   },
   "cell_type": "code",
   "source": [
    "df = pd.DataFrame(dataset[\"by_polishing\"])\n",
    "df"
   ],
   "id": "7b65ab3693aae0d2",
   "outputs": [
    {
     "data": {
      "text/plain": [
       "                                      original_abstract  \\\n",
       "0     كثيرا ما ارتبطت المصادر التاريخية في الأندلس خ...   \n",
       "1     يعد العامل الثقافي احد ابرز الاسباب التي يعزى ...   \n",
       "2     شكلت تلك الجهود والمساعي الرائدة التي قام بها ...   \n",
       "3     يقوم المقال على اشكالية الضرائب الغير شرعية في...   \n",
       "4     تتفق المصادر التاريخية المتوفرة حول موضوع تطور...   \n",
       "...                                                 ...   \n",
       "2846  إنّ الدارس لشعر المتنبّي يواجه ثروة لغوية واسع...   \n",
       "2847  يروم هذا المقال تقديم مقاربة لسانية لنص تراثيّ...   \n",
       "2848  تعدّ الرّوابط اللّغوية إحدى اللّبنات الأساسية ...   \n",
       "2849  يمكن صياغة التوقيعات البلاغية وفق المعايير الج...   \n",
       "2850  يحاول هذا المقال أن يقدم نظرة حول القيم التي ت...   \n",
       "\n",
       "                               allam_generated_abstract  \\\n",
       "0     يتناول هذا البحث موضوع التعليم بين النساء الأن...   \n",
       "1     يتناول هذا البحث دراسة انهيار دولة الموحدين من...   \n",
       "2     هدفت هذه الدراسة إلى تسليط الضوء على جهود قادة...   \n",
       "3     يتناول هذا البحث إشكالية الضرائب غير الشرعية ف...   \n",
       "4     تتناول هذه الدراسة حركة الانتصار للحريات الديم...   \n",
       "...                                                 ...   \n",
       "2846  يتناول هذا البحث اللغة الشعرية عند المتنبي، أح...   \n",
       "2847  يهدف هذا البحث إلى تقديم مقاربة لسانية لنص ترا...   \n",
       "2848  تتناول هذه الدراسة دور الروابط اللغوية، وبالأخ...   \n",
       "2849  في هذا البحث، نهدف إلى استكشاف الهوية الشعرية ...   \n",
       "2850  يهدف هذا البحث إلى دراسة القيم الصوتية المميزة...   \n",
       "\n",
       "                                jais_generated_abstract  \\\n",
       "0     تدرس هذه الدراسة دور المرأة في التعليم في الأن...   \n",
       "1     كان العامل الثقافي من بين الأسباب الرئيسية الت...   \n",
       "2     تدرس هذه الدراسة جهود قادة الثورة الجزائرية خل...   \n",
       "3     تدرس المقالة مشكلة الضرائب غير الشرعية في مراح...   \n",
       "4     حركة انتصار الحريات الديمقراطية (MTLD)، وهي حر...   \n",
       "...                                                 ...   \n",
       "2846  عند دراسة شعر المتنبي، يواجه المرء ثروة لغوية ...   \n",
       "2847  تهدف هذه المقالة إلى تقديم تحليل لغوي لنص تراث...   \n",
       "2848  تدرس هذه الدراسة الروابط اللغوية كأدوات أساسية...   \n",
       "2849  يستكشف هذا البحث إمكانية صياغة التوقيعات البلا...   \n",
       "2850  يستكشف هذا المقال القيم المميزة التي تمنح النص...   \n",
       "\n",
       "                               llama_generated_abstract  \\\n",
       "0     يُقدم هذا البحث دراسة شاملة حول حالة التعليم ع...   \n",
       "1     يعد العامل الثقافي أحد أبرز الأسباب التي يعزى ...   \n",
       "2     شكلت الجهود التي بذلها قادة الثورة الجزائرية خ...   \n",
       "3     يقوم البحث على دراسة الضرائب غير الشرعية في دو...   \n",
       "4     تُظهر المصادر التاريخية المتاحة حول تطور الحرك...   \n",
       "...                                                 ...   \n",
       "2846  تُبرز دراسة شعر المتنبي ثراءً لغويًا واسعًا يم...   \n",
       "2847  يروم هذا المقال تقديم مقاربة لسانية لنص تراثي ...   \n",
       "2848  تُعدّ الرّوابط اللّغوية ركنا أساسيا في بناء هي...   \n",
       "2849  يتمحور البحث حول هوية المعنى الشعري في ضوء الب...   \n",
       "2850  يحاول هذا البحث تقديم رؤية شاملة حول القيم الف...   \n",
       "\n",
       "                              openai_generated_abstract  \n",
       "0     صور نظام التعليم عند المرأة الأندلسية تستند إل...  \n",
       "1     انهيار دولة الموحدين يعود بشكل كبير للعوامل ال...  \n",
       "2     جهود قادة الثورة الجزائرية خلال المرحلة الأولى...  \n",
       "3     المقال يناقش قضية الضرائب غير الشرعية في دولتي...  \n",
       "4     حركة انتصار الحريات الديمقراطية (MTLD) في الجز...  \n",
       "...                                                 ...  \n",
       "2846  اللغة الشعرية عند المتنبي تعد من أعظم الظواهر ...  \n",
       "2847  يقدم هذا المقال دراسة لسانية لكتاب \"مفتاح العل...  \n",
       "2848  في هذا البحث نستكشف الأدوار الحجاجية للأداة \"ح...  \n",
       "2849  هوية المعنى الشعري في ضوء البلاغة الجديدة تتجل...  \n",
       "2850  يحاول هذا البحث استكشاف القيم الصوتية المميزة ...  \n",
       "\n",
       "[2851 rows x 5 columns]"
      ],
      "text/html": [
       "<div>\n",
       "<style scoped>\n",
       "    .dataframe tbody tr th:only-of-type {\n",
       "        vertical-align: middle;\n",
       "    }\n",
       "\n",
       "    .dataframe tbody tr th {\n",
       "        vertical-align: top;\n",
       "    }\n",
       "\n",
       "    .dataframe thead th {\n",
       "        text-align: right;\n",
       "    }\n",
       "</style>\n",
       "<table border=\"1\" class=\"dataframe\">\n",
       "  <thead>\n",
       "    <tr style=\"text-align: right;\">\n",
       "      <th></th>\n",
       "      <th>original_abstract</th>\n",
       "      <th>allam_generated_abstract</th>\n",
       "      <th>jais_generated_abstract</th>\n",
       "      <th>llama_generated_abstract</th>\n",
       "      <th>openai_generated_abstract</th>\n",
       "    </tr>\n",
       "  </thead>\n",
       "  <tbody>\n",
       "    <tr>\n",
       "      <th>0</th>\n",
       "      <td>كثيرا ما ارتبطت المصادر التاريخية في الأندلس خ...</td>\n",
       "      <td>يتناول هذا البحث موضوع التعليم بين النساء الأن...</td>\n",
       "      <td>تدرس هذه الدراسة دور المرأة في التعليم في الأن...</td>\n",
       "      <td>يُقدم هذا البحث دراسة شاملة حول حالة التعليم ع...</td>\n",
       "      <td>صور نظام التعليم عند المرأة الأندلسية تستند إل...</td>\n",
       "    </tr>\n",
       "    <tr>\n",
       "      <th>1</th>\n",
       "      <td>يعد العامل الثقافي احد ابرز الاسباب التي يعزى ...</td>\n",
       "      <td>يتناول هذا البحث دراسة انهيار دولة الموحدين من...</td>\n",
       "      <td>كان العامل الثقافي من بين الأسباب الرئيسية الت...</td>\n",
       "      <td>يعد العامل الثقافي أحد أبرز الأسباب التي يعزى ...</td>\n",
       "      <td>انهيار دولة الموحدين يعود بشكل كبير للعوامل ال...</td>\n",
       "    </tr>\n",
       "    <tr>\n",
       "      <th>2</th>\n",
       "      <td>شكلت تلك الجهود والمساعي الرائدة التي قام بها ...</td>\n",
       "      <td>هدفت هذه الدراسة إلى تسليط الضوء على جهود قادة...</td>\n",
       "      <td>تدرس هذه الدراسة جهود قادة الثورة الجزائرية خل...</td>\n",
       "      <td>شكلت الجهود التي بذلها قادة الثورة الجزائرية خ...</td>\n",
       "      <td>جهود قادة الثورة الجزائرية خلال المرحلة الأولى...</td>\n",
       "    </tr>\n",
       "    <tr>\n",
       "      <th>3</th>\n",
       "      <td>يقوم المقال على اشكالية الضرائب الغير شرعية في...</td>\n",
       "      <td>يتناول هذا البحث إشكالية الضرائب غير الشرعية ف...</td>\n",
       "      <td>تدرس المقالة مشكلة الضرائب غير الشرعية في مراح...</td>\n",
       "      <td>يقوم البحث على دراسة الضرائب غير الشرعية في دو...</td>\n",
       "      <td>المقال يناقش قضية الضرائب غير الشرعية في دولتي...</td>\n",
       "    </tr>\n",
       "    <tr>\n",
       "      <th>4</th>\n",
       "      <td>تتفق المصادر التاريخية المتوفرة حول موضوع تطور...</td>\n",
       "      <td>تتناول هذه الدراسة حركة الانتصار للحريات الديم...</td>\n",
       "      <td>حركة انتصار الحريات الديمقراطية (MTLD)، وهي حر...</td>\n",
       "      <td>تُظهر المصادر التاريخية المتاحة حول تطور الحرك...</td>\n",
       "      <td>حركة انتصار الحريات الديمقراطية (MTLD) في الجز...</td>\n",
       "    </tr>\n",
       "    <tr>\n",
       "      <th>...</th>\n",
       "      <td>...</td>\n",
       "      <td>...</td>\n",
       "      <td>...</td>\n",
       "      <td>...</td>\n",
       "      <td>...</td>\n",
       "    </tr>\n",
       "    <tr>\n",
       "      <th>2846</th>\n",
       "      <td>إنّ الدارس لشعر المتنبّي يواجه ثروة لغوية واسع...</td>\n",
       "      <td>يتناول هذا البحث اللغة الشعرية عند المتنبي، أح...</td>\n",
       "      <td>عند دراسة شعر المتنبي، يواجه المرء ثروة لغوية ...</td>\n",
       "      <td>تُبرز دراسة شعر المتنبي ثراءً لغويًا واسعًا يم...</td>\n",
       "      <td>اللغة الشعرية عند المتنبي تعد من أعظم الظواهر ...</td>\n",
       "    </tr>\n",
       "    <tr>\n",
       "      <th>2847</th>\n",
       "      <td>يروم هذا المقال تقديم مقاربة لسانية لنص تراثيّ...</td>\n",
       "      <td>يهدف هذا البحث إلى تقديم مقاربة لسانية لنص ترا...</td>\n",
       "      <td>تهدف هذه المقالة إلى تقديم تحليل لغوي لنص تراث...</td>\n",
       "      <td>يروم هذا المقال تقديم مقاربة لسانية لنص تراثي ...</td>\n",
       "      <td>يقدم هذا المقال دراسة لسانية لكتاب \"مفتاح العل...</td>\n",
       "    </tr>\n",
       "    <tr>\n",
       "      <th>2848</th>\n",
       "      <td>تعدّ الرّوابط اللّغوية إحدى اللّبنات الأساسية ...</td>\n",
       "      <td>تتناول هذه الدراسة دور الروابط اللغوية، وبالأخ...</td>\n",
       "      <td>تدرس هذه الدراسة الروابط اللغوية كأدوات أساسية...</td>\n",
       "      <td>تُعدّ الرّوابط اللّغوية ركنا أساسيا في بناء هي...</td>\n",
       "      <td>في هذا البحث نستكشف الأدوار الحجاجية للأداة \"ح...</td>\n",
       "    </tr>\n",
       "    <tr>\n",
       "      <th>2849</th>\n",
       "      <td>يمكن صياغة التوقيعات البلاغية وفق المعايير الج...</td>\n",
       "      <td>في هذا البحث، نهدف إلى استكشاف الهوية الشعرية ...</td>\n",
       "      <td>يستكشف هذا البحث إمكانية صياغة التوقيعات البلا...</td>\n",
       "      <td>يتمحور البحث حول هوية المعنى الشعري في ضوء الب...</td>\n",
       "      <td>هوية المعنى الشعري في ضوء البلاغة الجديدة تتجل...</td>\n",
       "    </tr>\n",
       "    <tr>\n",
       "      <th>2850</th>\n",
       "      <td>يحاول هذا المقال أن يقدم نظرة حول القيم التي ت...</td>\n",
       "      <td>يهدف هذا البحث إلى دراسة القيم الصوتية المميزة...</td>\n",
       "      <td>يستكشف هذا المقال القيم المميزة التي تمنح النص...</td>\n",
       "      <td>يحاول هذا البحث تقديم رؤية شاملة حول القيم الف...</td>\n",
       "      <td>يحاول هذا البحث استكشاف القيم الصوتية المميزة ...</td>\n",
       "    </tr>\n",
       "  </tbody>\n",
       "</table>\n",
       "<p>2851 rows × 5 columns</p>\n",
       "</div>"
      ]
     },
     "execution_count": 20,
     "metadata": {},
     "output_type": "execute_result"
    }
   ],
   "execution_count": 20
  },
  {
   "metadata": {
    "ExecuteTime": {
     "end_time": "2025-09-15T16:16:26.140616Z",
     "start_time": "2025-09-15T16:16:25.777953Z"
    }
   },
   "cell_type": "code",
   "source": [
    "for split_name, ds in dataset.items():\n",
    "    print(f\"Split: {split_name}\")\n",
    "    df = pd.DataFrame(ds)\n",
    "    print(df.head(5))"
   ],
   "id": "40f64ca6b6ba581e",
   "outputs": [
    {
     "name": "stdout",
     "output_type": "stream",
     "text": [
      "Split: by_polishing\n",
      "                                   original_abstract  \\\n",
      "0  كثيرا ما ارتبطت المصادر التاريخية في الأندلس خ...   \n",
      "1  يعد العامل الثقافي احد ابرز الاسباب التي يعزى ...   \n",
      "2  شكلت تلك الجهود والمساعي الرائدة التي قام بها ...   \n",
      "3  يقوم المقال على اشكالية الضرائب الغير شرعية في...   \n",
      "4  تتفق المصادر التاريخية المتوفرة حول موضوع تطور...   \n",
      "\n",
      "                            allam_generated_abstract  \\\n",
      "0  يتناول هذا البحث موضوع التعليم بين النساء الأن...   \n",
      "1  يتناول هذا البحث دراسة انهيار دولة الموحدين من...   \n",
      "2  هدفت هذه الدراسة إلى تسليط الضوء على جهود قادة...   \n",
      "3  يتناول هذا البحث إشكالية الضرائب غير الشرعية ف...   \n",
      "4  تتناول هذه الدراسة حركة الانتصار للحريات الديم...   \n",
      "\n",
      "                             jais_generated_abstract  \\\n",
      "0  تدرس هذه الدراسة دور المرأة في التعليم في الأن...   \n",
      "1  كان العامل الثقافي من بين الأسباب الرئيسية الت...   \n",
      "2  تدرس هذه الدراسة جهود قادة الثورة الجزائرية خل...   \n",
      "3  تدرس المقالة مشكلة الضرائب غير الشرعية في مراح...   \n",
      "4  حركة انتصار الحريات الديمقراطية (MTLD)، وهي حر...   \n",
      "\n",
      "                            llama_generated_abstract  \\\n",
      "0  يُقدم هذا البحث دراسة شاملة حول حالة التعليم ع...   \n",
      "1  يعد العامل الثقافي أحد أبرز الأسباب التي يعزى ...   \n",
      "2  شكلت الجهود التي بذلها قادة الثورة الجزائرية خ...   \n",
      "3  يقوم البحث على دراسة الضرائب غير الشرعية في دو...   \n",
      "4  تُظهر المصادر التاريخية المتاحة حول تطور الحرك...   \n",
      "\n",
      "                           openai_generated_abstract  \n",
      "0  صور نظام التعليم عند المرأة الأندلسية تستند إل...  \n",
      "1  انهيار دولة الموحدين يعود بشكل كبير للعوامل ال...  \n",
      "2  جهود قادة الثورة الجزائرية خلال المرحلة الأولى...  \n",
      "3  المقال يناقش قضية الضرائب غير الشرعية في دولتي...  \n",
      "4  حركة انتصار الحريات الديمقراطية (MTLD) في الجز...  \n",
      "Split: from_title\n",
      "                                   original_abstract  \\\n",
      "0  كثيرا ما ارتبطت المصادر التاريخية في الأندلس خ...   \n",
      "1  يعد العامل الثقافي احد ابرز الاسباب التي يعزى ...   \n",
      "2  يقوم المقال على اشكالية الضرائب الغير شرعية في...   \n",
      "3  تتفق المصادر التاريخية المتوفرة حول موضوع تطور...   \n",
      "4  تعددت صور الحياة الثقافية و الفكرية و الأدبية ...   \n",
      "\n",
      "                            allam_generated_abstract  \\\n",
      "0  يهدف هذا البحث إلى دراسة نظام التعليم عند المر...   \n",
      "1  تهدف هذه الدراسة إلى تحليل انهيار دولة الموحدي...   \n",
      "2  تهدف هذه الدراسة إلى استكشاف ظاهرة الضرائب غير...   \n",
      "3  تهدف هذه الدراسة إلى تحليل حركة انتصار الحريات...   \n",
      "4  تهدف هذه الدراسة إلى استكشاف تأثير السلطة العل...   \n",
      "\n",
      "                             jais_generated_abstract  \\\n",
      "0  تدرس هذه الورقة البحثية نظام التعليم لدى المرأ...   \n",
      "1  تدرس هذه الورقة البحثية انهيار دولة الموحدين، ...   \n",
      "2  تدرس هذه الورقة البحثية ظاهرة التهرب الضريبي ف...   \n",
      "3  حركة انتصار الحريات الديمقراطية -MTLD-(1945-19...   \n",
      "4  تدرس هذه الورقة البحثية تأثير السلطة العالمة ع...   \n",
      "\n",
      "                            llama_generated_abstract  \\\n",
      "0  تهدف هذه الورقة البحثية إلى استكشاف صور نظام ا...   \n",
      "1  يتناول هذا البحث انهيار دولة الموحدين من خلال ...   \n",
      "2  يُقدم هذا البحث دراسة تحليلية شاملة للضرائب غي...   \n",
      "3  حركة انتصار الحريات الديمقراطية (MTLD) بين الأ...   \n",
      "4  يستعرض هذا البحث تأثير السلطة العالمة على الإب...   \n",
      "\n",
      "                           openai_generated_abstract  \n",
      "0  البحث يستكشف نظام التعليم عند المرأة الأندلسية...  \n",
      "1  تتناول هذه الدراسة البحثية انهيار دولة الموحدي...  \n",
      "2  تتناول هذه الدراسة البحثية موضوع الضرائب غير ا...  \n",
      "3  دراسـة \"حركـة انتصـار الحريّـات الديمقراطيـة -...  \n",
      "4  تتناول هذه الورقة البحثية تأثير الهيمنة العالم...  \n",
      "Split: from_title_and_content\n",
      "                                   original_abstract  \\\n",
      "0  كثيرا ما ارتبطت المصادر التاريخية في الأندلس خ...   \n",
      "1  يعد العامل الثقافي احد ابرز الاسباب التي يعزى ...   \n",
      "2  شكلت تلك الجهود والمساعي الرائدة التي قام بها ...   \n",
      "3  يقوم المقال على اشكالية الضرائب الغير شرعية في...   \n",
      "4  تعددت صور الحياة الثقافية و الفكرية و الأدبية ...   \n",
      "\n",
      "                            allam_generated_abstract  \\\n",
      "0  يتناول هذا البحث موضوع نظام التعليم عند المرأة...   \n",
      "1  يتناول هذا البحث دراسة خلفيات انهيار دولة المو...   \n",
      "2  يتناول هذا البحث موضوع تسليح جيش التحرير الوطن...   \n",
      "3  يتناول هذا البحث موضوع الضرائب غير الشرعية في ...   \n",
      "4  يتناول هذا البحث تأثير السلطة العالمة في الإبد...   \n",
      "\n",
      "                             jais_generated_abstract  \\\n",
      "0  تتناول هذه الدراسة نظام التعليم عند المرأة الأ...   \n",
      "1  يعد العامل الثقافي أحد أبرز الأسباب التي أدت إ...   \n",
      "2  للأسف، النص المقدم غير واضح وغير قابل للقراءة ...   \n",
      "3  يناقش المقال مشكلة الضرائب غير الشرعية في مراح...   \n",
      "4  تتناول هذه الدراسة تأثير السلطة العالمة على ال...   \n",
      "\n",
      "                            llama_generated_abstract  \\\n",
      "0  تناولت هذه الدراسة نظام التعليم عند المرأة الأ...   \n",
      "1  انهيار دولة الموحدين – دراسة في الخلفيات الثقا...   \n",
      "2  تسليح جيش التحرير الوطني عبر الحدود الغربية خل...   \n",
      "3  تناولت هذه الدراسة الضرائب غير الشرعية في دولت...   \n",
      "4  أثر السلطة العالمة في الإبداع الفكري والأدبي ا...   \n",
      "\n",
      "                           openai_generated_abstract  \n",
      "0  يركز البحث على نظام التعليم للمرأة في الأندلس،...  \n",
      "1  تناول البحث انهيار دولة الموحدين من منظور خلفي...  \n",
      "2  يبحث هذا البحث في تسليح جيش التحرير الوطني الج...  \n",
      "3  يتناول البحث مسألة الضرائب غير الشرعية في دولت...  \n",
      "4  يتناول البحث موضوع دور السلطة العالمة في تعزيز...  \n"
     ]
    }
   ],
   "execution_count": 11
  },
  {
   "metadata": {},
   "cell_type": "markdown",
   "source": "# Store the original dataset",
   "id": "8e8a6e2e828ed220"
  },
  {
   "metadata": {
    "ExecuteTime": {
     "end_time": "2025-09-15T16:07:48.150411Z",
     "start_time": "2025-09-15T16:07:48.050674Z"
    }
   },
   "cell_type": "code",
   "source": [
    "os.makedirs(\"../data/raw\", exist_ok=True)\n",
    "dataset.save_to_disk(\"../data/raw/\")"
   ],
   "id": "ce6f9b16d04b141d",
   "outputs": [
    {
     "data": {
      "text/plain": [
       "Saving the dataset (0/1 shards):   0%|          | 0/2851 [00:00<?, ? examples/s]"
      ],
      "application/vnd.jupyter.widget-view+json": {
       "version_major": 2,
       "version_minor": 0,
       "model_id": "a00a9be2c546415abc5188f563f982a2"
      }
     },
     "metadata": {},
     "output_type": "display_data"
    },
    {
     "data": {
      "text/plain": [
       "Saving the dataset (0/1 shards):   0%|          | 0/2963 [00:00<?, ? examples/s]"
      ],
      "application/vnd.jupyter.widget-view+json": {
       "version_major": 2,
       "version_minor": 0,
       "model_id": "526d1949d47a493988a005e6c264e89d"
      }
     },
     "metadata": {},
     "output_type": "display_data"
    },
    {
     "data": {
      "text/plain": [
       "Saving the dataset (0/1 shards):   0%|          | 0/2574 [00:00<?, ? examples/s]"
      ],
      "application/vnd.jupyter.widget-view+json": {
       "version_major": 2,
       "version_minor": 0,
       "model_id": "e82db5e546144eedaf302d275acbf2ec"
      }
     },
     "metadata": {},
     "output_type": "display_data"
    }
   ],
   "execution_count": 6
  },
  {
   "metadata": {},
   "cell_type": "markdown",
   "source": "# Convert dataset into binary classification",
   "id": "2c433f143cbda564"
  },
  {
   "metadata": {
    "ExecuteTime": {
     "end_time": "2025-09-15T16:16:47.837321Z",
     "start_time": "2025-09-15T16:16:47.451777Z"
    }
   },
   "cell_type": "code",
   "source": [
    "data = []\n",
    "\n",
    "for split_name, ds in dataset.items():\n",
    "    df = pd.DataFrame(ds)\n",
    "\n",
    "    # Human texts\n",
    "    for text in df[\"original_abstract\"].dropna():\n",
    "        data.append({\"text\": text, \"label\": \"human\"})\n",
    "\n",
    "    # AI texts\n",
    "    generated_cols = [col for col in df.columns if col.endswith(\"_generated_abstract\")]\n",
    "    for col in generated_cols:\n",
    "        for text in df[col].dropna():\n",
    "            data.append({\"text\": text, \"label\": \"ai\"})\n",
    "\n",
    "final_df = pd.DataFrame(data)\n"
   ],
   "id": "83e105a1ebb1f2ce",
   "outputs": [],
   "execution_count": 12
  },
  {
   "metadata": {
    "ExecuteTime": {
     "end_time": "2025-09-15T16:19:23.684823Z",
     "start_time": "2025-09-15T16:19:23.001458Z"
    }
   },
   "cell_type": "code",
   "source": [
    "os.makedirs(\"data/processed\", exist_ok=True)\n",
    "final_df.to_csv(\"data/processed/AIArabic_binary.csv\", index=False, encoding=\"utf-8-sig\")"
   ],
   "id": "d8ef315c6bd8b58f",
   "outputs": [],
   "execution_count": 16
  },
  {
   "metadata": {},
   "cell_type": "markdown",
   "source": "# Explore binary data",
   "id": "d6cfb2d16c290f17"
  },
  {
   "metadata": {
    "ExecuteTime": {
     "end_time": "2025-09-15T16:28:49.472194Z",
     "start_time": "2025-09-15T16:28:49.460606Z"
    }
   },
   "cell_type": "code",
   "source": "final_df.tail()",
   "id": "c8cc4d3171e8ec6d",
   "outputs": [
    {
     "data": {
      "text/plain": [
       "                                                    text label\n",
       "41935  تُعتبر اللغة الشعرية عند المتنبي ظاهرة فريدة ف...    ai\n",
       "41936  يعتبر \"مفتاح العلوم\" للسكاكي من أبرز المراجع ف...    ai\n",
       "41937  البحث يتناول أهمية الأداة اللغوية \"حتى\" في الخ...    ai\n",
       "41938  يتناول البحث موضوع هوية المعنى الشعري في سياق ...    ai\n",
       "41939  يركّز البحث على تحليل القيم الصوتية التي تميّز...    ai"
      ],
      "text/html": [
       "<div>\n",
       "<style scoped>\n",
       "    .dataframe tbody tr th:only-of-type {\n",
       "        vertical-align: middle;\n",
       "    }\n",
       "\n",
       "    .dataframe tbody tr th {\n",
       "        vertical-align: top;\n",
       "    }\n",
       "\n",
       "    .dataframe thead th {\n",
       "        text-align: right;\n",
       "    }\n",
       "</style>\n",
       "<table border=\"1\" class=\"dataframe\">\n",
       "  <thead>\n",
       "    <tr style=\"text-align: right;\">\n",
       "      <th></th>\n",
       "      <th>text</th>\n",
       "      <th>label</th>\n",
       "    </tr>\n",
       "  </thead>\n",
       "  <tbody>\n",
       "    <tr>\n",
       "      <th>41935</th>\n",
       "      <td>تُعتبر اللغة الشعرية عند المتنبي ظاهرة فريدة ف...</td>\n",
       "      <td>ai</td>\n",
       "    </tr>\n",
       "    <tr>\n",
       "      <th>41936</th>\n",
       "      <td>يعتبر \"مفتاح العلوم\" للسكاكي من أبرز المراجع ف...</td>\n",
       "      <td>ai</td>\n",
       "    </tr>\n",
       "    <tr>\n",
       "      <th>41937</th>\n",
       "      <td>البحث يتناول أهمية الأداة اللغوية \"حتى\" في الخ...</td>\n",
       "      <td>ai</td>\n",
       "    </tr>\n",
       "    <tr>\n",
       "      <th>41938</th>\n",
       "      <td>يتناول البحث موضوع هوية المعنى الشعري في سياق ...</td>\n",
       "      <td>ai</td>\n",
       "    </tr>\n",
       "    <tr>\n",
       "      <th>41939</th>\n",
       "      <td>يركّز البحث على تحليل القيم الصوتية التي تميّز...</td>\n",
       "      <td>ai</td>\n",
       "    </tr>\n",
       "  </tbody>\n",
       "</table>\n",
       "</div>"
      ]
     },
     "execution_count": 21,
     "metadata": {},
     "output_type": "execute_result"
    }
   ],
   "execution_count": 21
  },
  {
   "metadata": {
    "ExecuteTime": {
     "end_time": "2025-09-15T16:28:59.276028Z",
     "start_time": "2025-09-15T16:28:59.256967Z"
    }
   },
   "cell_type": "code",
   "source": "final_df.head()",
   "id": "f49fd51821eb4367",
   "outputs": [
    {
     "data": {
      "text/plain": [
       "                                                text  label\n",
       "0  كثيرا ما ارتبطت المصادر التاريخية في الأندلس خ...  human\n",
       "1  يعد العامل الثقافي احد ابرز الاسباب التي يعزى ...  human\n",
       "2  شكلت تلك الجهود والمساعي الرائدة التي قام بها ...  human\n",
       "3  يقوم المقال على اشكالية الضرائب الغير شرعية في...  human\n",
       "4  تتفق المصادر التاريخية المتوفرة حول موضوع تطور...  human"
      ],
      "text/html": [
       "<div>\n",
       "<style scoped>\n",
       "    .dataframe tbody tr th:only-of-type {\n",
       "        vertical-align: middle;\n",
       "    }\n",
       "\n",
       "    .dataframe tbody tr th {\n",
       "        vertical-align: top;\n",
       "    }\n",
       "\n",
       "    .dataframe thead th {\n",
       "        text-align: right;\n",
       "    }\n",
       "</style>\n",
       "<table border=\"1\" class=\"dataframe\">\n",
       "  <thead>\n",
       "    <tr style=\"text-align: right;\">\n",
       "      <th></th>\n",
       "      <th>text</th>\n",
       "      <th>label</th>\n",
       "    </tr>\n",
       "  </thead>\n",
       "  <tbody>\n",
       "    <tr>\n",
       "      <th>0</th>\n",
       "      <td>كثيرا ما ارتبطت المصادر التاريخية في الأندلس خ...</td>\n",
       "      <td>human</td>\n",
       "    </tr>\n",
       "    <tr>\n",
       "      <th>1</th>\n",
       "      <td>يعد العامل الثقافي احد ابرز الاسباب التي يعزى ...</td>\n",
       "      <td>human</td>\n",
       "    </tr>\n",
       "    <tr>\n",
       "      <th>2</th>\n",
       "      <td>شكلت تلك الجهود والمساعي الرائدة التي قام بها ...</td>\n",
       "      <td>human</td>\n",
       "    </tr>\n",
       "    <tr>\n",
       "      <th>3</th>\n",
       "      <td>يقوم المقال على اشكالية الضرائب الغير شرعية في...</td>\n",
       "      <td>human</td>\n",
       "    </tr>\n",
       "    <tr>\n",
       "      <th>4</th>\n",
       "      <td>تتفق المصادر التاريخية المتوفرة حول موضوع تطور...</td>\n",
       "      <td>human</td>\n",
       "    </tr>\n",
       "  </tbody>\n",
       "</table>\n",
       "</div>"
      ]
     },
     "execution_count": 22,
     "metadata": {},
     "output_type": "execute_result"
    }
   ],
   "execution_count": 22
  },
  {
   "metadata": {
    "ExecuteTime": {
     "end_time": "2025-09-15T16:29:19.271482Z",
     "start_time": "2025-09-15T16:29:19.248758Z"
    }
   },
   "cell_type": "code",
   "source": "final_df.sample(5)",
   "id": "c0f9a3e39bf2b226",
   "outputs": [
    {
     "data": {
      "text/plain": [
       "                                                    text  label\n",
       "37954  يسعى البحث إلى دراسة قلق الموت لدى المرضى المق...     ai\n",
       "35795  هذه الدراسة، التي أجراها مقدم أسية من جامعة ال...     ai\n",
       "35225  تهدف الدراسة إلى التأكيد على أهمية الانتقال نح...     ai\n",
       "23258  يُقدم هذا البحث تحليلاً متعمقاً لأثر التحالف ا...     ai\n",
       "1101   هدفت هذه الدراسة إلى إبراز دور التفكير الإبداع...  human"
      ],
      "text/html": [
       "<div>\n",
       "<style scoped>\n",
       "    .dataframe tbody tr th:only-of-type {\n",
       "        vertical-align: middle;\n",
       "    }\n",
       "\n",
       "    .dataframe tbody tr th {\n",
       "        vertical-align: top;\n",
       "    }\n",
       "\n",
       "    .dataframe thead th {\n",
       "        text-align: right;\n",
       "    }\n",
       "</style>\n",
       "<table border=\"1\" class=\"dataframe\">\n",
       "  <thead>\n",
       "    <tr style=\"text-align: right;\">\n",
       "      <th></th>\n",
       "      <th>text</th>\n",
       "      <th>label</th>\n",
       "    </tr>\n",
       "  </thead>\n",
       "  <tbody>\n",
       "    <tr>\n",
       "      <th>37954</th>\n",
       "      <td>يسعى البحث إلى دراسة قلق الموت لدى المرضى المق...</td>\n",
       "      <td>ai</td>\n",
       "    </tr>\n",
       "    <tr>\n",
       "      <th>35795</th>\n",
       "      <td>هذه الدراسة، التي أجراها مقدم أسية من جامعة ال...</td>\n",
       "      <td>ai</td>\n",
       "    </tr>\n",
       "    <tr>\n",
       "      <th>35225</th>\n",
       "      <td>تهدف الدراسة إلى التأكيد على أهمية الانتقال نح...</td>\n",
       "      <td>ai</td>\n",
       "    </tr>\n",
       "    <tr>\n",
       "      <th>23258</th>\n",
       "      <td>يُقدم هذا البحث تحليلاً متعمقاً لأثر التحالف ا...</td>\n",
       "      <td>ai</td>\n",
       "    </tr>\n",
       "    <tr>\n",
       "      <th>1101</th>\n",
       "      <td>هدفت هذه الدراسة إلى إبراز دور التفكير الإبداع...</td>\n",
       "      <td>human</td>\n",
       "    </tr>\n",
       "  </tbody>\n",
       "</table>\n",
       "</div>"
      ]
     },
     "execution_count": 24,
     "metadata": {},
     "output_type": "execute_result"
    }
   ],
   "execution_count": 24
  },
  {
   "metadata": {
    "ExecuteTime": {
     "end_time": "2025-09-15T16:29:36.505365Z",
     "start_time": "2025-09-15T16:29:36.465395Z"
    }
   },
   "cell_type": "code",
   "source": "final_df.info()",
   "id": "4f6c042e807064d8",
   "outputs": [
    {
     "name": "stdout",
     "output_type": "stream",
     "text": [
      "<class 'pandas.core.frame.DataFrame'>\n",
      "RangeIndex: 41940 entries, 0 to 41939\n",
      "Data columns (total 2 columns):\n",
      " #   Column  Non-Null Count  Dtype \n",
      "---  ------  --------------  ----- \n",
      " 0   text    41940 non-null  object\n",
      " 1   label   41940 non-null  object\n",
      "dtypes: object(2)\n",
      "memory usage: 655.4+ KB\n"
     ]
    }
   ],
   "execution_count": 25
  },
  {
   "metadata": {
    "ExecuteTime": {
     "end_time": "2025-09-15T16:31:33.624382Z",
     "start_time": "2025-09-15T16:31:33.608183Z"
    }
   },
   "cell_type": "code",
   "source": "final_df.shape",
   "id": "48af64a5347e7d40",
   "outputs": [
    {
     "data": {
      "text/plain": [
       "(41940, 2)"
      ]
     },
     "execution_count": 26,
     "metadata": {},
     "output_type": "execute_result"
    }
   ],
   "execution_count": 26
  },
  {
   "metadata": {
    "ExecuteTime": {
     "end_time": "2025-09-15T16:31:50.405800Z",
     "start_time": "2025-09-15T16:31:50.388645Z"
    }
   },
   "cell_type": "code",
   "source": "final_df.columns",
   "id": "ee4d032f969f05ca",
   "outputs": [
    {
     "data": {
      "text/plain": [
       "Index(['text', 'label'], dtype='object')"
      ]
     },
     "execution_count": 27,
     "metadata": {},
     "output_type": "execute_result"
    }
   ],
   "execution_count": 27
  },
  {
   "metadata": {
    "ExecuteTime": {
     "end_time": "2025-09-15T16:32:07.453102Z",
     "start_time": "2025-09-15T16:32:07.375980Z"
    }
   },
   "cell_type": "code",
   "source": "final_df.describe()",
   "id": "4d7f96e94bf8746b",
   "outputs": [
    {
     "data": {
      "text/plain": [
       "                                                     text  label\n",
       "count                                               41940  41940\n",
       "unique                                              36525      2\n",
       "top     يعتبر مبدأ الإفصاح والشفافية من المبادئ الأساس...     ai\n",
       "freq                                                    4  33552"
      ],
      "text/html": [
       "<div>\n",
       "<style scoped>\n",
       "    .dataframe tbody tr th:only-of-type {\n",
       "        vertical-align: middle;\n",
       "    }\n",
       "\n",
       "    .dataframe tbody tr th {\n",
       "        vertical-align: top;\n",
       "    }\n",
       "\n",
       "    .dataframe thead th {\n",
       "        text-align: right;\n",
       "    }\n",
       "</style>\n",
       "<table border=\"1\" class=\"dataframe\">\n",
       "  <thead>\n",
       "    <tr style=\"text-align: right;\">\n",
       "      <th></th>\n",
       "      <th>text</th>\n",
       "      <th>label</th>\n",
       "    </tr>\n",
       "  </thead>\n",
       "  <tbody>\n",
       "    <tr>\n",
       "      <th>count</th>\n",
       "      <td>41940</td>\n",
       "      <td>41940</td>\n",
       "    </tr>\n",
       "    <tr>\n",
       "      <th>unique</th>\n",
       "      <td>36525</td>\n",
       "      <td>2</td>\n",
       "    </tr>\n",
       "    <tr>\n",
       "      <th>top</th>\n",
       "      <td>يعتبر مبدأ الإفصاح والشفافية من المبادئ الأساس...</td>\n",
       "      <td>ai</td>\n",
       "    </tr>\n",
       "    <tr>\n",
       "      <th>freq</th>\n",
       "      <td>4</td>\n",
       "      <td>33552</td>\n",
       "    </tr>\n",
       "  </tbody>\n",
       "</table>\n",
       "</div>"
      ]
     },
     "execution_count": 28,
     "metadata": {},
     "output_type": "execute_result"
    }
   ],
   "execution_count": 28
  },
  {
   "metadata": {
    "ExecuteTime": {
     "end_time": "2025-09-15T16:32:50.819681Z",
     "start_time": "2025-09-15T16:32:50.797042Z"
    }
   },
   "cell_type": "code",
   "source": "final_df.isnull().sum()",
   "id": "e7e2b92c2bbf096e",
   "outputs": [
    {
     "data": {
      "text/plain": [
       "text     0\n",
       "label    0\n",
       "dtype: int64"
      ]
     },
     "execution_count": 30,
     "metadata": {},
     "output_type": "execute_result"
    }
   ],
   "execution_count": 30
  },
  {
   "metadata": {
    "ExecuteTime": {
     "end_time": "2025-09-15T16:33:24.610679Z",
     "start_time": "2025-09-15T16:33:24.413799Z"
    }
   },
   "cell_type": "code",
   "source": "final_df.duplicated().sum()",
   "id": "f7d2e27ffcf723b9",
   "outputs": [
    {
     "data": {
      "text/plain": [
       "5399"
      ]
     },
     "execution_count": 31,
     "metadata": {},
     "output_type": "execute_result"
    }
   ],
   "execution_count": 31
  },
  {
   "metadata": {
    "ExecuteTime": {
     "end_time": "2025-09-15T16:35:03.672944Z",
     "start_time": "2025-09-15T16:35:03.661559Z"
    }
   },
   "cell_type": "code",
   "source": "final_df['label'].value_counts()",
   "id": "edd3a3953b3aa7d6",
   "outputs": [
    {
     "data": {
      "text/plain": [
       "label\n",
       "ai       33552\n",
       "human     8388\n",
       "Name: count, dtype: int64"
      ]
     },
     "execution_count": 32,
     "metadata": {},
     "output_type": "execute_result"
    }
   ],
   "execution_count": 32
  }
 ],
 "metadata": {
  "kernelspec": {
   "display_name": "Python 3",
   "language": "python",
   "name": "python3"
  },
  "language_info": {
   "codemirror_mode": {
    "name": "ipython",
    "version": 2
   },
   "file_extension": ".py",
   "mimetype": "text/x-python",
   "name": "python",
   "nbconvert_exporter": "python",
   "pygments_lexer": "ipython2",
   "version": "2.7.6"
  }
 },
 "nbformat": 4,
 "nbformat_minor": 5
}
